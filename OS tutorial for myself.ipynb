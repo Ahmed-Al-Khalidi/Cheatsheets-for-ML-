{
 "cells": [
  {
   "cell_type": "code",
   "execution_count": null,
   "id": "43fbcb08-3b87-4368-aff5-3dcc6304e127",
   "metadata": {},
   "outputs": [],
   "source": [
    "import os\n"
   ]
  },
  {
   "cell_type": "markdown",
   "id": "443719f9-6f69-4c1a-ab06-c15139117781",
   "metadata": {},
   "source": [
    "# Working with Files and Directories"
   ]
  },
  {
   "cell_type": "code",
   "execution_count": null,
   "id": "fd51f674-932c-43ea-b464-49d9a50e5052",
   "metadata": {},
   "outputs": [],
   "source": [
    "# File and Directory Operations\n",
    "current_directory = os.getcwd()  # Get current working directory\n",
    "os.mkdir(\"new_directory\")        # Create a directory\n",
    "os.chdir(\"new_directory\")        # Change current working directory\n",
    "contents = os.listdir()          # List files and directories in the current directory\n",
    "os.chdir(\"..\")                   # Move up one directory\n",
    "os.rmdir(\"new_directory\")        # Remove an empty directory\n"
   ]
  },
  {
   "cell_type": "code",
   "execution_count": null,
   "id": "15e0f3e2-6856-4f97-ad9f-adcc3764d7fd",
   "metadata": {},
   "outputs": [],
   "source": [
    "# Path Manipulation\n",
    "path = os.path.join(\"folder\", \"file.txt\")  # Join path components\n",
    "path_exists = os.path.exists(path)         # Check if the path exists\n"
   ]
  },
  {
   "cell_type": "code",
   "execution_count": null,
   "id": "f72bbedc-0196-4982-8bcf-3aebf57af03b",
   "metadata": {},
   "outputs": [],
   "source": [
    "# File Information\n",
    "file_size = os.path.getsize(\"file.txt\")      # Get the size of a file\n",
    "modification_time = os.path.getmtime(\"file.txt\")  # Get last modification time of a file\n",
    "is_absolute_path = os.path.isabs(\"/absolute/path\")  # Check if a path is absolute\n"
   ]
  },
  {
   "cell_type": "markdown",
   "id": "6995c48d-b458-49df-9e56-0f819536f7d4",
   "metadata": {},
   "source": [
    "# Operating System Information\n"
   ]
  },
  {
   "cell_type": "code",
   "execution_count": null,
   "id": "371354ae-60f6-46d4-a4c8-f1b3a5d1172e",
   "metadata": {},
   "outputs": [],
   "source": [
    "# Environment Variables\n",
    "path_variable_value = os.environ.get('PATH')  # Get the value of the PATH environment variable\n"
   ]
  },
  {
   "cell_type": "code",
   "execution_count": null,
   "id": "64e82fa5-5ebb-41b5-887c-6e88f812fa67",
   "metadata": {},
   "outputs": [],
   "source": [
    "# Executing Commands\n",
    "os.system(\"ls -l\")  # Execute a shell command (listing files in long format)\n"
   ]
  },
  {
   "cell_type": "code",
   "execution_count": null,
   "id": "0666958e-3648-4113-88d2-a15815fe5462",
   "metadata": {},
   "outputs": [],
   "source": [
    "# Miscellaneous\n",
    "os_name = os.name          # Get the name of the operating system dependent module imported\n",
    "path_separator = os.pathsep  # Get the character used to separate different paths in a single string\n"
   ]
  }
 ],
 "metadata": {
  "kernelspec": {
   "display_name": "tensorflow_env",
   "language": "python",
   "name": "tensorflow_env"
  },
  "language_info": {
   "codemirror_mode": {
    "name": "ipython",
    "version": 3
   },
   "file_extension": ".py",
   "mimetype": "text/x-python",
   "name": "python",
   "nbconvert_exporter": "python",
   "pygments_lexer": "ipython3",
   "version": "3.10.13"
  }
 },
 "nbformat": 4,
 "nbformat_minor": 5
}
