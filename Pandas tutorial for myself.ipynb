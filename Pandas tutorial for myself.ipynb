{
 "cells": [
  {
   "cell_type": "markdown",
   "id": "e15fc6d5-6c35-46c3-9b82-8f39c8d0c143",
   "metadata": {},
   "source": [
    "# Import Pandas"
   ]
  },
  {
   "cell_type": "code",
   "execution_count": 7,
   "id": "7ca28e72-dd1d-492a-b198-43615ffcd232",
   "metadata": {},
   "outputs": [],
   "source": [
    "import pandas as pd"
   ]
  },
  {
   "cell_type": "markdown",
   "id": "9678693d-1d4c-4e49-9de0-41b98d117efb",
   "metadata": {},
   "source": [
    "# Reading Data"
   ]
  },
  {
   "cell_type": "code",
   "execution_count": null,
   "id": "922041fc-6ae5-4d46-866c-3bb35441ee74",
   "metadata": {},
   "outputs": [],
   "source": [
    "# Read CSV\n",
    "df = pd.read_csv('filename.csv')\n",
    "\n",
    "# Read Excel\n",
    "df = pd.read_excel('filename.xlsx')\n",
    "\n",
    "# Display first few rows\n",
    "df.head()\n",
    "\n",
    "# Display last few rows\n",
    "df.tail()\n"
   ]
  },
  {
   "cell_type": "markdown",
   "id": "1de238f9-952a-4cd6-b0c0-1d899c4b892b",
   "metadata": {},
   "source": [
    "# Basic Information"
   ]
  },
  {
   "cell_type": "code",
   "execution_count": null,
   "id": "3a363f7f-5378-4ec4-a27c-c5fba46197f3",
   "metadata": {},
   "outputs": [],
   "source": [
    "# Display DataFrame info\n",
    "df.info()\n",
    "\n",
    "# Summary statistics\n",
    "df.describe()\n",
    "\n",
    "# Number of non-null values in each column\n",
    "df.count()\n"
   ]
  },
  {
   "cell_type": "markdown",
   "id": "71fc8f47-cae8-402e-b9ee-37c18ebbb9de",
   "metadata": {},
   "source": [
    "# Selection and Filtering"
   ]
  },
  {
   "cell_type": "code",
   "execution_count": null,
   "id": "d6e5a4d5-2520-4329-bf15-7f7359adb65a",
   "metadata": {},
   "outputs": [],
   "source": [
    "# Select a single column\n",
    "df['column_name']\n",
    "\n",
    "# Select multiple columns\n",
    "df[['column1', 'column2']]\n",
    "\n",
    "# Filter rows based on condition\n",
    "df[df['column'] > 10]\n",
    "\n",
    "# Multiple conditions\n",
    "df[(df['column1'] > 10) & (df['column2'] == 'value')]\n"
   ]
  },
  {
   "cell_type": "markdown",
   "id": "bc4e9fd0-ace9-42fe-b9cd-196954eebeba",
   "metadata": {},
   "source": [
    "# Data Cleaning"
   ]
  },
  {
   "cell_type": "code",
   "execution_count": null,
   "id": "38ab0f88-113b-4287-b125-693fad634d05",
   "metadata": {},
   "outputs": [],
   "source": [
    "# Drop missing values\n",
    "df.dropna()\n",
    "\n",
    "# Fill missing values\n",
    "df.fillna(value)\n",
    "\n",
    "# Drop duplicates\n",
    "df.drop_duplicates()\n"
   ]
  },
  {
   "cell_type": "markdown",
   "id": "61ff6e3b-8978-42d5-a986-413e4f88baad",
   "metadata": {},
   "source": [
    "# Data Manipulation"
   ]
  },
  {
   "cell_type": "code",
   "execution_count": null,
   "id": "00a104e2-fa9b-4139-9efd-a643330c2fee",
   "metadata": {},
   "outputs": [],
   "source": [
    "# Add a new column\n",
    "df['new_column'] = value\n",
    "\n",
    "# Remove a column\n",
    "df.drop('column_name', axis=1, inplace=True)\n",
    "\n",
    "# Rename columns\n",
    "df.rename(columns={'old_name': 'new_name'}, inplace=True)\n",
    "\n",
    "# Sorting\n",
    "df.sort_values(by='column_name', ascending=True)\n"
   ]
  },
  {
   "cell_type": "markdown",
   "id": "50c39c04-f898-49c4-b80f-be041b78e534",
   "metadata": {},
   "source": [
    "# Grouping and Aggregation"
   ]
  },
  {
   "cell_type": "code",
   "execution_count": null,
   "id": "70f13d0d-d4da-461e-8326-0b85d2bd7c66",
   "metadata": {},
   "outputs": [],
   "source": [
    "# Group by a column\n",
    "grouped = df.groupby('column_name')\n",
    "\n",
    "# Aggregation functions\n",
    "grouped['column_name'].mean()\n",
    "grouped['column_name'].sum()\n"
   ]
  },
  {
   "cell_type": "markdown",
   "id": "b4381a3a-ae7d-457d-b143-2ce36c592300",
   "metadata": {},
   "source": [
    "# Merging and Concatenation"
   ]
  },
  {
   "cell_type": "code",
   "execution_count": null,
   "id": "f260efc6-6d39-466b-9043-ffc44b6b21f6",
   "metadata": {},
   "outputs": [],
   "source": [
    "# Concatenate DataFrames vertically\n",
    "result = pd.concat([df1, df2])\n",
    "\n",
    "# Concatenate DataFrames horizontally\n",
    "result = pd.concat([df1, df2], axis=1)\n",
    "\n",
    "# Merge DataFrames\n",
    "merged = pd.merge(df1, df2, on='common_column')\n"
   ]
  },
  {
   "cell_type": "markdown",
   "id": "c07d6d8e-12af-4dcf-a857-bda83e499ac3",
   "metadata": {},
   "source": [
    "# Saving Data"
   ]
  },
  {
   "cell_type": "code",
   "execution_count": null,
   "id": "a9c08747-fd6e-4899-a3d0-501db6308f8f",
   "metadata": {},
   "outputs": [],
   "source": [
    "# Save to CSV\n",
    "df.to_csv('output.csv', index=False)\n",
    "\n",
    "# Save to Excel\n",
    "df.to_excel('output.xlsx', index=False)\n"
   ]
  }
 ],
 "metadata": {
  "kernelspec": {
   "display_name": "tensorflow_env",
   "language": "python",
   "name": "tensorflow_env"
  },
  "language_info": {
   "codemirror_mode": {
    "name": "ipython",
    "version": 3
   },
   "file_extension": ".py",
   "mimetype": "text/x-python",
   "name": "python",
   "nbconvert_exporter": "python",
   "pygments_lexer": "ipython3",
   "version": "3.10.13"
  }
 },
 "nbformat": 4,
 "nbformat_minor": 5
}
