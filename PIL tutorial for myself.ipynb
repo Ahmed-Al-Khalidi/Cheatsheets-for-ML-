{
 "cells": [
  {
   "cell_type": "markdown",
   "id": "dec36d2b-4b15-4352-a7df-a442f9989a12",
   "metadata": {},
   "source": [
    "pip install Pillow\n"
   ]
  },
  {
   "cell_type": "markdown",
   "id": "3aacae9d-3ba5-4fbd-b047-aa4ded3934ac",
   "metadata": {},
   "source": [
    "# 1. Importing Pillow"
   ]
  },
  {
   "cell_type": "code",
   "execution_count": null,
   "id": "11444378-d81f-4d98-b9e3-d8ea0977c9b2",
   "metadata": {},
   "outputs": [],
   "source": [
    "from PIL import Image\n"
   ]
  },
  {
   "cell_type": "markdown",
   "id": "e1309c1c-c3fa-49f4-942e-809ed20c8e38",
   "metadata": {},
   "source": [
    "# 2. Opening an Image"
   ]
  },
  {
   "cell_type": "code",
   "execution_count": null,
   "id": "65236de1-006f-4dcf-b336-18dd94b58052",
   "metadata": {},
   "outputs": [],
   "source": [
    "img = Image.open(\"image.jpg\")\n"
   ]
  },
  {
   "cell_type": "markdown",
   "id": "f7f8a1a3-7cc1-4f33-af72-9e95e7c1ba2f",
   "metadata": {},
   "source": [
    "# 3. Displaying an Image"
   ]
  },
  {
   "cell_type": "code",
   "execution_count": null,
   "id": "9cc3893a-22ab-4e36-97c2-c9c6e0c28857",
   "metadata": {},
   "outputs": [],
   "source": [
    "img.show()\n"
   ]
  },
  {
   "cell_type": "markdown",
   "id": "1ff148a1-baac-4db9-a6af-6f0bcdb218fa",
   "metadata": {},
   "source": [
    "# 4. Saving an Image"
   ]
  },
  {
   "cell_type": "code",
   "execution_count": null,
   "id": "b6c5a24b-83ed-425d-87f6-f8f362b6d349",
   "metadata": {},
   "outputs": [],
   "source": [
    "img.save(\"output.jpg\")\n"
   ]
  },
  {
   "cell_type": "markdown",
   "id": "930e38ca-481b-4791-a092-09fda9b21a2c",
   "metadata": {},
   "source": [
    "# 5. Getting Image Information"
   ]
  },
  {
   "cell_type": "code",
   "execution_count": null,
   "id": "95aac65a-3ebc-4298-a625-67acdf993474",
   "metadata": {},
   "outputs": [],
   "source": [
    "width, height = img.size\n",
    "format = img.format\n",
    "mode = img.mode\n"
   ]
  },
  {
   "cell_type": "markdown",
   "id": "52ae9228-b43d-4072-8a9f-d52bec03f778",
   "metadata": {},
   "source": [
    "# 6. Resizing an Image"
   ]
  },
  {
   "cell_type": "code",
   "execution_count": null,
   "id": "3aa20a69-61ca-42c5-9d27-08eb68deb1ce",
   "metadata": {},
   "outputs": [],
   "source": [
    "resized_img = img.resize((new_width, new_height))\n"
   ]
  },
  {
   "cell_type": "markdown",
   "id": "56c0b364-065e-43d4-9c82-2979754ad066",
   "metadata": {},
   "source": [
    "# 7. Rotating an Image"
   ]
  },
  {
   "cell_type": "code",
   "execution_count": null,
   "id": "1bf37a15-65d8-48ff-93ac-92b29f52b5f1",
   "metadata": {},
   "outputs": [],
   "source": [
    "rotated_img = img.rotate(angle)\n"
   ]
  },
  {
   "cell_type": "markdown",
   "id": "f256ce0d-62f5-4089-863f-3d572f22aae5",
   "metadata": {},
   "source": [
    "# 8. Cropping an Image"
   ]
  },
  {
   "cell_type": "code",
   "execution_count": null,
   "id": "e0d8c82e-fb4b-4654-9abf-40339cdba7a0",
   "metadata": {},
   "outputs": [],
   "source": [
    "box = (left, upper, right, lower)\n",
    "cropped_img = img.crop(box)\n"
   ]
  },
  {
   "cell_type": "markdown",
   "id": "61a2b332-b19c-41a6-8599-b6aeea235582",
   "metadata": {},
   "source": [
    "# 9. Converting Image to Grayscale"
   ]
  },
  {
   "cell_type": "code",
   "execution_count": null,
   "id": "68385545-5b4c-49e7-b6c8-4d5daf14699e",
   "metadata": {},
   "outputs": [],
   "source": [
    "gray_img = img.convert(\"L\")\n"
   ]
  },
  {
   "cell_type": "markdown",
   "id": "70d5b3a6-6631-4a99-9bdb-f37ef20aa765",
   "metadata": {},
   "source": [
    "# 10. Adding a Border to an Image"
   ]
  },
  {
   "cell_type": "code",
   "execution_count": null,
   "id": "658104e3-ab16-4708-9a14-5123428d16ee",
   "metadata": {},
   "outputs": [],
   "source": [
    "border_img = Image.new(\"RGB\", (width + 2 * border_size, height + 2 * border_size), \"color\")\n",
    "border_img.paste(img, (border_size, border_size))\n"
   ]
  },
  {
   "cell_type": "markdown",
   "id": "6f987d7d-1852-4ccc-8387-3899492e1329",
   "metadata": {},
   "source": [
    "# 11. Flipping an Image Horizontally"
   ]
  },
  {
   "cell_type": "code",
   "execution_count": null,
   "id": "fb103ece-5dc4-42c5-93f9-259c12ee6ca3",
   "metadata": {},
   "outputs": [],
   "source": [
    "flipped_img = img.transpose(Image.FLIP_LEFT_RIGHT)\n"
   ]
  },
  {
   "cell_type": "markdown",
   "id": "800e0755-d186-4a16-99a2-793662bfc74a",
   "metadata": {},
   "source": [
    "# 12. Flipping an Image Vertically"
   ]
  },
  {
   "cell_type": "code",
   "execution_count": null,
   "id": "718b3225-656b-42d0-b31b-59551c852d03",
   "metadata": {},
   "outputs": [],
   "source": [
    "flipped_img = img.transpose(Image.FLIP_TOP_BOTTOM)\n"
   ]
  },
  {
   "cell_type": "markdown",
   "id": "41d1987b-9638-432b-aee3-294d33d00b60",
   "metadata": {},
   "source": [
    "# 13. Enhancing Image Contrast"
   ]
  },
  {
   "cell_type": "code",
   "execution_count": null,
   "id": "5781403f-9ff8-4dc0-aec3-e56c0322739e",
   "metadata": {},
   "outputs": [],
   "source": [
    "from PIL import ImageEnhance\n",
    "enhancer = ImageEnhance.Contrast(img)\n",
    "enhanced_img = enhancer.enhance(2.0)  # Increase contrast (2.0 means 200%)\n"
   ]
  },
  {
   "cell_type": "markdown",
   "id": "de2d86cd-e846-48f1-bed0-6766669385f0",
   "metadata": {},
   "source": [
    "# 14. Image Filtering (Blurring)"
   ]
  },
  {
   "cell_type": "code",
   "execution_count": null,
   "id": "993b0b00-edfc-482b-8255-dc03ddc9a2a9",
   "metadata": {},
   "outputs": [],
   "source": [
    "from PIL import ImageFilter\n",
    "blurred_img = img.filter(ImageFilter.BLUR)\n"
   ]
  },
  {
   "cell_type": "markdown",
   "id": "73116d29-2fb8-4b82-8b15-9e0b83d69f01",
   "metadata": {},
   "source": [
    "# 15. Drawing on an Image (Example: Drawing a Rectangle)"
   ]
  },
  {
   "cell_type": "code",
   "execution_count": null,
   "id": "a0f9bcea-52b5-456d-ad18-5d599b000432",
   "metadata": {},
   "outputs": [],
   "source": [
    "from PIL import ImageDraw\n",
    "draw = ImageDraw.Draw(img)\n",
    "draw.rectangle([x1, y1, x2, y2], outline=\"red\", width=2)\n"
   ]
  },
  {
   "cell_type": "markdown",
   "id": "a213577c-8816-4ae9-896e-0bfbddb07ef6",
   "metadata": {},
   "source": [
    "# 16. Creating a New Blank Image"
   ]
  },
  {
   "cell_type": "code",
   "execution_count": null,
   "id": "4968487c-a645-4490-8bbe-0dbe962aac7f",
   "metadata": {},
   "outputs": [],
   "source": [
    "blank_img = Image.new(\"RGB\", (width, height), \"white\")\n"
   ]
  },
  {
   "cell_type": "markdown",
   "id": "bea7f4dd-601b-4ad6-a822-853e9e0b113b",
   "metadata": {},
   "source": [
    "# 17. Merging Two Images"
   ]
  },
  {
   "cell_type": "code",
   "execution_count": null,
   "id": "481f745b-531b-44be-84fa-25c79b745bb9",
   "metadata": {},
   "outputs": [],
   "source": [
    "merged_img = Image.blend(img1, img2, alpha)\n"
   ]
  },
  {
   "cell_type": "markdown",
   "id": "85ac8d0b-a786-46b7-bbda-90292d3f159b",
   "metadata": {},
   "source": [
    "# 18. Creating a Thumbnail"
   ]
  },
  {
   "cell_type": "code",
   "execution_count": null,
   "id": "74526020-824c-4789-99a0-a1981d99bc36",
   "metadata": {},
   "outputs": [],
   "source": [
    "thumbnail = img.thumbnail((width, height))\n"
   ]
  },
  {
   "cell_type": "markdown",
   "id": "5ed6848a-c943-40e2-8c1b-b458b6615e35",
   "metadata": {},
   "source": [
    "# 19. Image Arithmetic (Addition, Subtraction, etc.)"
   ]
  },
  {
   "cell_type": "code",
   "execution_count": null,
   "id": "0e65fc7e-a351-4adf-888c-7918818cd614",
   "metadata": {},
   "outputs": [],
   "source": [
    "from PIL import ImageChops\n",
    "result_img = ImageChops.add(img1, img2)\n"
   ]
  },
  {
   "cell_type": "markdown",
   "id": "e311d6d5-ae2f-46f6-8eff-4f0533d1cba9",
   "metadata": {},
   "source": [
    "# 20. Checking If Two Images Are Equal"
   ]
  },
  {
   "cell_type": "code",
   "execution_count": null,
   "id": "030e6298-a5cf-4d55-8955-602bc8b95f58",
   "metadata": {},
   "outputs": [],
   "source": [
    "are_equal = ImageChops.difference(img1, img2).getbbox() is None\n"
   ]
  },
  {
   "cell_type": "code",
   "execution_count": null,
   "id": "60ae09f7-81ba-45ed-bf17-10e5378b41f2",
   "metadata": {},
   "outputs": [],
   "source": []
  }
 ],
 "metadata": {
  "kernelspec": {
   "display_name": "tensorflow_env",
   "language": "python",
   "name": "tensorflow_env"
  },
  "language_info": {
   "codemirror_mode": {
    "name": "ipython",
    "version": 3
   },
   "file_extension": ".py",
   "mimetype": "text/x-python",
   "name": "python",
   "nbconvert_exporter": "python",
   "pygments_lexer": "ipython3",
   "version": "3.10.13"
  }
 },
 "nbformat": 4,
 "nbformat_minor": 5
}
