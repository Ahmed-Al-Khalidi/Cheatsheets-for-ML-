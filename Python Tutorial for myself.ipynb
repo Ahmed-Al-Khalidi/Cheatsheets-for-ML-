{
 "cells": [
  {
   "cell_type": "markdown",
   "id": "ef732d1c-36d2-46c4-8e7f-db50b0c5b881",
   "metadata": {},
   "source": [
    "# Type of variables"
   ]
  },
  {
   "cell_type": "code",
   "execution_count": 1,
   "id": "35354c3a-d6e7-4139-8178-929f7e18ffc8",
   "metadata": {},
   "outputs": [],
   "source": [
    "x0=123  # variable store int"
   ]
  },
  {
   "cell_type": "code",
   "execution_count": null,
   "id": "f7d57ad1-9d8f-4b49-8776-d45ee2ab8d7f",
   "metadata": {},
   "outputs": [],
   "source": [
    "x1=1.43 # variable store float "
   ]
  },
  {
   "cell_type": "code",
   "execution_count": 3,
   "id": "c51439a0-2d8b-4bee-b193-1fd554b74a42",
   "metadata": {},
   "outputs": [],
   "source": [
    "x2=\"string\" # variable store string"
   ]
  },
  {
   "cell_type": "code",
   "execution_count": 4,
   "id": "ede00f02-c8b9-4511-b5ad-abb64f40e5af",
   "metadata": {},
   "outputs": [],
   "source": [
    "x3=False # variable store boolean False or True"
   ]
  },
  {
   "cell_type": "markdown",
   "id": "ac52b6fd-5c7f-4ad5-89c3-6ee06c4fe7ae",
   "metadata": {},
   "source": [
    "# Changing the type of variable "
   ]
  },
  {
   "cell_type": "code",
   "execution_count": 18,
   "id": "ff169c66-bdc2-4ae5-8398-e7235674421d",
   "metadata": {},
   "outputs": [
    {
     "name": "stdout",
     "output_type": "stream",
     "text": [
      "10 <class 'int'>\n"
     ]
    }
   ],
   "source": [
    "x=10\n",
    "print(x,type(x))"
   ]
  },
  {
   "cell_type": "code",
   "execution_count": 19,
   "id": "7b6eedde-1774-44c1-928c-9de7ef6475cd",
   "metadata": {},
   "outputs": [
    {
     "name": "stdout",
     "output_type": "stream",
     "text": [
      "10.0 <class 'float'>\n"
     ]
    }
   ],
   "source": [
    "x=10\n",
    "x=float(x)\n",
    "print(x,type(x))"
   ]
  },
  {
   "cell_type": "code",
   "execution_count": 20,
   "id": "a07a15a5-8d4f-4dbf-b635-472fa0ea44dc",
   "metadata": {},
   "outputs": [
    {
     "name": "stdout",
     "output_type": "stream",
     "text": [
      "10 <class 'str'>\n"
     ]
    }
   ],
   "source": [
    "x=10\n",
    "x=str(x)\n",
    "print(x,type(x))"
   ]
  },
  {
   "cell_type": "code",
   "execution_count": 22,
   "id": "999ea667-2cdd-4bcc-be41-d920294f8960",
   "metadata": {},
   "outputs": [
    {
     "name": "stdout",
     "output_type": "stream",
     "text": [
      "10.5\n",
      "10 <class 'int'>\n"
     ]
    }
   ],
   "source": [
    "x=10.5\n",
    "print(x)\n",
    "x=int(x)\n",
    "print(x,type(x))"
   ]
  },
  {
   "cell_type": "code",
   "execution_count": 24,
   "id": "4ed599c5-9b80-4ea6-84be-7bba80b01fa2",
   "metadata": {},
   "outputs": [
    {
     "name": "stdout",
     "output_type": "stream",
     "text": [
      "True <class 'bool'>\n",
      "True <class 'str'>\n"
     ]
    }
   ],
   "source": [
    "x=True\n",
    "print(x,type(x))\n",
    "x=str(x)\n",
    "print(x,type(x))"
   ]
  },
  {
   "cell_type": "code",
   "execution_count": 25,
   "id": "65e449ff-6ddc-4870-93e2-28075689e15b",
   "metadata": {},
   "outputs": [
    {
     "name": "stdout",
     "output_type": "stream",
     "text": [
      "True <class 'str'>\n",
      "True <class 'bool'>\n"
     ]
    }
   ],
   "source": [
    "x='True'\n",
    "print(x,type(x))\n",
    "x=bool(x)\n",
    "print(x,type(x))"
   ]
  },
  {
   "cell_type": "markdown",
   "id": "40a2f13f-9974-48f4-bfb2-9343e32fcdd4",
   "metadata": {},
   "source": [
    "# loops  "
   ]
  },
  {
   "cell_type": "markdown",
   "id": "653864a4-f169-4d27-8cfa-d58cb5ebd41b",
   "metadata": {},
   "source": [
    "### For loap always i-1 ---------------------------------------------------------------"
   ]
  },
  {
   "cell_type": "code",
   "execution_count": 6,
   "id": "499f37b7-01cf-431b-8828-a057336e1fd2",
   "metadata": {},
   "outputs": [
    {
     "name": "stdout",
     "output_type": "stream",
     "text": [
      "i= 0\n",
      "i= 1\n",
      "i= 2\n",
      "i= 3\n",
      "i= 4\n"
     ]
    }
   ],
   "source": [
    "for i in range(5):\n",
    "    print('i=',i)"
   ]
  },
  {
   "cell_type": "code",
   "execution_count": 9,
   "id": "061439be-cdbc-4c45-8044-39fe58ca8280",
   "metadata": {},
   "outputs": [
    {
     "name": "stdout",
     "output_type": "stream",
     "text": [
      "i= 0\n",
      "i= 1\n",
      "i= 2\n",
      "i= 3\n",
      "i= 4\n"
     ]
    }
   ],
   "source": [
    "length=5\n",
    "for i in range(length):\n",
    "    print('i=',i)"
   ]
  },
  {
   "cell_type": "code",
   "execution_count": 12,
   "id": "8ac30634-0563-4494-8f72-1669a799e31e",
   "metadata": {},
   "outputs": [
    {
     "name": "stdout",
     "output_type": "stream",
     "text": [
      "i= 2\n",
      "i= 3\n",
      "i= 4\n"
     ]
    }
   ],
   "source": [
    "for i in range(2,5):\n",
    "    print('i=',i)"
   ]
  },
  {
   "cell_type": "code",
   "execution_count": 8,
   "id": "245fc4f7-cffa-4dd2-9aa1-7c4f54aab548",
   "metadata": {},
   "outputs": [
    {
     "name": "stdout",
     "output_type": "stream",
     "text": [
      "i= 0\n",
      "i= 1\n",
      "i= 2\n",
      "i= 3\n",
      "i= 4\n"
     ]
    }
   ],
   "source": [
    "list1=[1,2,3,4,5]\n",
    "lenght=len(list1)\n",
    "\n",
    "for i in range(lenght):\n",
    "    print('i=',i)"
   ]
  },
  {
   "cell_type": "code",
   "execution_count": 19,
   "id": "5a9aec07-1e1e-4c92-9bea-61ccea81e3cb",
   "metadata": {},
   "outputs": [
    {
     "name": "stdout",
     "output_type": "stream",
     "text": [
      "this is how to add numbers and strings to text   number= 0    name= ahmed\n",
      "this is how to add numbers and strings to text   number= 1    name= fahad\n",
      "this is how to add numbers and strings to text   number= 2    name= khalid\n"
     ]
    }
   ],
   "source": [
    "names=['ahmed','fahad','khalid']\n",
    "\n",
    "for i in range(3):\n",
    "    string_text=f'this is how to add numbers and strings to text   number= {i}    name= {names[i]}'\n",
    "    print(string_text)\n"
   ]
  },
  {
   "cell_type": "code",
   "execution_count": 4,
   "id": "0f170611-0c19-4a19-bc1a-22d45555ff5c",
   "metadata": {},
   "outputs": [
    {
     "name": "stdout",
     "output_type": "stream",
     "text": [
      "<built-in method split of str object at 0x000001C96E649930>\n"
     ]
    }
   ],
   "source": [
    "xx='sss ffhf sss ffhh sss '\n",
    "xc=xx.split\n",
    "print(xc)"
   ]
  },
  {
   "cell_type": "markdown",
   "id": "46418d0b-254d-4e80-ba6c-edd29d79022e",
   "metadata": {},
   "source": [
    "### While loop ---------------------------------------------------------------"
   ]
  },
  {
   "cell_type": "code",
   "execution_count": 2,
   "id": "8ac45e11-1740-4af6-ba8e-eac92bf4ee79",
   "metadata": {},
   "outputs": [
    {
     "name": "stdout",
     "output_type": "stream",
     "text": [
      "x= 10\n",
      "x= 9\n",
      "x= 8\n",
      "x= 7\n",
      "x= 6\n",
      "x= 5\n",
      "x= 4\n"
     ]
    }
   ],
   "source": [
    "x=10\n",
    "while x>3:\n",
    "    print('x=',x)\n",
    "    x=x-1"
   ]
  },
  {
   "cell_type": "code",
   "execution_count": 6,
   "id": "74cb66d4-2ef3-4096-8996-2c25b6fa5a31",
   "metadata": {},
   "outputs": [
    {
     "name": "stdout",
     "output_type": "stream",
     "text": [
      "x= 0\n",
      "x= 1\n",
      "x= 2\n",
      "x= 3\n"
     ]
    }
   ],
   "source": [
    "x=0\n",
    "while x<4:\n",
    "    print('x=',x)\n",
    "    x=x+1"
   ]
  },
  {
   "cell_type": "code",
   "execution_count": 8,
   "id": "129a2dff-4bd1-4b62-a771-711caa3c0359",
   "metadata": {},
   "outputs": [
    {
     "name": "stdout",
     "output_type": "stream",
     "text": [
      "True\n"
     ]
    }
   ],
   "source": [
    "read_inputx=True\n",
    "\n",
    "while read_inputx == True:\n",
    "    print('True')\n",
    "    read_inputx=False\n",
    "    "
   ]
  },
  {
   "cell_type": "code",
   "execution_count": 12,
   "id": "b5af4480-3d3e-4193-8923-55bc5260c921",
   "metadata": {},
   "outputs": [
    {
     "name": "stdout",
     "output_type": "stream",
     "text": [
      "True\n"
     ]
    }
   ],
   "source": [
    "read_inputx=True\n",
    "b='a'\n",
    "while read_inputx == True:\n",
    "    print('True')\n",
    "    if b =='a':\n",
    "        break\n",
    "    print('No b != a ')    "
   ]
  },
  {
   "cell_type": "code",
   "execution_count": 13,
   "id": "67d437db-4584-48e8-85d3-92a7854ce378",
   "metadata": {},
   "outputs": [
    {
     "name": "stdout",
     "output_type": "stream",
     "text": [
      "True\n",
      "No b != a \n"
     ]
    }
   ],
   "source": [
    "read_inputx=True\n",
    "b='c'\n",
    "while read_inputx == True:\n",
    "    print('True')\n",
    "    \n",
    "    if b =='a':\n",
    "        break\n",
    "    print('No b != a ') \n",
    "    read_inputx=False"
   ]
  },
  {
   "cell_type": "code",
   "execution_count": 14,
   "id": "32fb6089-8166-4811-ae35-4649844644ed",
   "metadata": {},
   "outputs": [
    {
     "name": "stdout",
     "output_type": "stream",
     "text": [
      "True\n",
      "True\n",
      "True\n",
      "True\n"
     ]
    }
   ],
   "source": [
    "read_inputx=3\n",
    "b='a'\n",
    "while read_inputx >=0 :\n",
    "    print('True')\n",
    "    read_inputx=read_inputx-1\n",
    "    if b =='a':\n",
    "        continue\n",
    "    print('ABCD ')  "
   ]
  },
  {
   "cell_type": "code",
   "execution_count": 15,
   "id": "329e66fe-c1d9-4e5a-b11d-cccd943170cf",
   "metadata": {},
   "outputs": [
    {
     "name": "stdout",
     "output_type": "stream",
     "text": [
      "True\n",
      "ABCD \n",
      "True\n",
      "ABCD \n",
      "True\n",
      "ABCD \n",
      "True\n",
      "ABCD \n"
     ]
    }
   ],
   "source": [
    "read_inputx=3\n",
    "b='v'\n",
    "while read_inputx >=0 :\n",
    "    print('True')\n",
    "    read_inputx=read_inputx-1\n",
    "    if b =='a':\n",
    "        continue\n",
    "    print('ABCD ')  "
   ]
  },
  {
   "cell_type": "code",
   "execution_count": null,
   "id": "db493a30-f1ed-4031-abef-c1f790bcc73a",
   "metadata": {},
   "outputs": [],
   "source": []
  },
  {
   "cell_type": "code",
   "execution_count": null,
   "id": "7853a9cf-fb18-4161-84b5-9ba4d3a77abe",
   "metadata": {},
   "outputs": [],
   "source": []
  },
  {
   "cell_type": "markdown",
   "id": "134dfb56-b5f4-40b8-870c-5265ab320684",
   "metadata": {},
   "source": [
    "# List, Tuple, Set, Dictionary"
   ]
  },
  {
   "cell_type": "markdown",
   "id": "ed949314-ba77-4990-833d-d01a14994709",
   "metadata": {},
   "source": [
    " ## List:"
   ]
  },
  {
   "cell_type": "markdown",
   "id": "17bcc0e1-ed97-4db6-846e-85553a01f6cc",
   "metadata": {},
   "source": [
    " 1-List can be modified"
   ]
  },
  {
   "cell_type": "markdown",
   "id": "f2a2da1d-3c8d-4d3e-8fa9-711368bd04c6",
   "metadata": {},
   "source": [
    " 2-List can be extended after creating it"
   ]
  },
  {
   "cell_type": "markdown",
   "id": "d33b3b85-e979-4d37-901b-8ebfa78b8b58",
   "metadata": {},
   "source": [
    " 3-List data are orginized in fixed storage locations"
   ]
  },
  {
   "cell_type": "markdown",
   "id": "55a7cf8b-31ed-42ae-a9fa-4f74307bd910",
   "metadata": {},
   "source": [
    " 4-List data can be dublicated."
   ]
  },
  {
   "cell_type": "code",
   "execution_count": 28,
   "id": "273f117d-68e0-4921-aa23-0c8a27ccd033",
   "metadata": {},
   "outputs": [
    {
     "name": "stdout",
     "output_type": "stream",
     "text": [
      "[1, 2, 3, 4]\n"
     ]
    }
   ],
   "source": [
    "x=[1,2,3]\n",
    "x.append(4)\n",
    "print(x)"
   ]
  },
  {
   "cell_type": "code",
   "execution_count": 33,
   "id": "02905f3b-fc5b-4be2-b5a2-e2d5b676c559",
   "metadata": {},
   "outputs": [
    {
     "name": "stdout",
     "output_type": "stream",
     "text": [
      "[1, 3]\n"
     ]
    }
   ],
   "source": [
    "x=[1,2,3]\n",
    "x.remove(2)\n",
    "print(x)"
   ]
  },
  {
   "cell_type": "code",
   "execution_count": 34,
   "id": "97acd2aa-9925-4576-bb54-c16a4ab78617",
   "metadata": {},
   "outputs": [
    {
     "name": "stdout",
     "output_type": "stream",
     "text": [
      "[1, 3, 2]\n"
     ]
    }
   ],
   "source": [
    "x=[1,2,3,2]\n",
    "x.remove(2)\n",
    "print(x)"
   ]
  },
  {
   "cell_type": "code",
   "execution_count": 39,
   "id": "06507461-fc59-4c17-bf51-9113e2390e88",
   "metadata": {},
   "outputs": [
    {
     "name": "stdout",
     "output_type": "stream",
     "text": [
      "<built-in method sort of list object at 0x000002CA984A9280>\n"
     ]
    }
   ],
   "source": [
    "x=[4,6,2,5,3,1]\n",
    "x=x.sort\n",
    "print(x)"
   ]
  },
  {
   "cell_type": "markdown",
   "id": "61c6fbf5-199c-43fa-aaaf-745e7ff88550",
   "metadata": {},
   "source": [
    "## Tupule:"
   ]
  },
  {
   "cell_type": "markdown",
   "id": "27f46473-1c74-44dc-be6c-4cebc9842ecd",
   "metadata": {},
   "source": [
    "1-Fixed can't be modified"
   ]
  },
  {
   "cell_type": "markdown",
   "id": "4150af94-0a6e-415f-9f92-6fea01b0ad6a",
   "metadata": {},
   "source": [
    "2-Data are orginized in fixed storage locations"
   ]
  },
  {
   "cell_type": "markdown",
   "id": "0eb2aba8-a699-4734-97c6-ff3ec293dd69",
   "metadata": {},
   "source": [
    "3-Data can be dublicated"
   ]
  },
  {
   "cell_type": "code",
   "execution_count": 41,
   "id": "af34e9cd-b622-4283-9304-9e4f1cb54ade",
   "metadata": {},
   "outputs": [
    {
     "name": "stdout",
     "output_type": "stream",
     "text": [
      "(1, 11, 'a', 1, 'a')\n"
     ]
    }
   ],
   "source": [
    "x1=(1,'a',1,'a')\n",
    "print(x1)"
   ]
  },
  {
   "cell_type": "code",
   "execution_count": null,
   "id": "55c50d60-d7fa-4cc3-9311-90219a459d0a",
   "metadata": {},
   "outputs": [],
   "source": []
  },
  {
   "cell_type": "code",
   "execution_count": null,
   "id": "03a24bfc-2c44-4abd-8889-f269d5131f94",
   "metadata": {},
   "outputs": [],
   "source": []
  },
  {
   "cell_type": "markdown",
   "id": "e56a9fe6-a1c6-4db9-bc73-51ade4e1132d",
   "metadata": {},
   "source": [
    "## Set:"
   ]
  },
  {
   "cell_type": "markdown",
   "id": "59e74dbc-1495-4623-af85-cfa358672f65",
   "metadata": {},
   "source": [
    "1-Data can be modified"
   ]
  },
  {
   "cell_type": "markdown",
   "id": "002a3010-35a1-4f7a-81f2-028a198527bf",
   "metadata": {},
   "source": [
    "2-Data are not orginized in fixed locations"
   ]
  },
  {
   "cell_type": "markdown",
   "id": "d110a12e-f4fb-48b1-ad5d-9be804fca7f6",
   "metadata": {},
   "source": [
    "3-Data can't be dublicated"
   ]
  },
  {
   "cell_type": "markdown",
   "id": "5506ebf5-2fb6-471d-9be0-1cda5f9132d1",
   "metadata": {},
   "source": [
    "4-Data can be extended"
   ]
  },
  {
   "cell_type": "code",
   "execution_count": 45,
   "id": "83704c2d-52dc-445b-8708-dbc01b626488",
   "metadata": {},
   "outputs": [
    {
     "name": "stdout",
     "output_type": "stream",
     "text": [
      "None\n",
      "{'aaa'}\n"
     ]
    }
   ],
   "source": [
    "x2={1,1,'aaa','aaa'}\n",
    "print(x2.remove(1))\n",
    "print(x2)"
   ]
  },
  {
   "cell_type": "code",
   "execution_count": null,
   "id": "7a3a6195-acdd-4562-ae19-067f15e991c4",
   "metadata": {},
   "outputs": [],
   "source": []
  },
  {
   "cell_type": "code",
   "execution_count": null,
   "id": "77254d56-ffaf-495b-9c98-de983654d840",
   "metadata": {},
   "outputs": [],
   "source": []
  },
  {
   "cell_type": "markdown",
   "id": "79b4847f-cda4-43cb-b72c-d8c7065457f7",
   "metadata": {},
   "source": [
    "## Dictionary:"
   ]
  },
  {
   "cell_type": "markdown",
   "id": "b2907b9a-8760-4671-afb4-bda1fd69110d",
   "metadata": {},
   "source": [
    "1-Data can be modified"
   ]
  },
  {
   "cell_type": "markdown",
   "id": "df7ad72f-715d-40f2-aa32-55aaf1d05f7b",
   "metadata": {},
   "source": [
    "2-Data are connected to keys if you need data you need to call its key"
   ]
  },
  {
   "cell_type": "markdown",
   "id": "a755df2d-bcce-4385-8129-1130b3a0df1e",
   "metadata": {},
   "source": [
    "3-Data can be extended"
   ]
  },
  {
   "cell_type": "markdown",
   "id": "1f33e9a1-1054-4847-9fbc-8d93776f3c40",
   "metadata": {},
   "source": [
    "4-Data can't be dublicated"
   ]
  },
  {
   "cell_type": "code",
   "execution_count": 48,
   "id": "281ae531-1223-468c-a85c-290df70ca113",
   "metadata": {},
   "outputs": [],
   "source": [
    "x3={'a':\"ahmed\",'b':\"khalid\",1:1233,2:'abcd'}"
   ]
  },
  {
   "cell_type": "code",
   "execution_count": 47,
   "id": "0ba0303b-373c-4045-a850-19c4edff1114",
   "metadata": {},
   "outputs": [
    {
     "name": "stdout",
     "output_type": "stream",
     "text": [
      "{'a': 'fahad', 'b': 'khalid', 1: 1233, 2: 'abcd'}\n"
     ]
    }
   ],
   "source": [
    "x3['a']='fahad'\n",
    "x3.\n",
    "print(x3)"
   ]
  },
  {
   "cell_type": "code",
   "execution_count": null,
   "id": "b62346ff-2eef-4e80-9c24-4968f76b1f05",
   "metadata": {},
   "outputs": [],
   "source": [
    "x3."
   ]
  },
  {
   "cell_type": "markdown",
   "id": "c943dcf8-a431-4e71-a667-6401021fc3ad",
   "metadata": {},
   "source": [
    "# Functions:"
   ]
  },
  {
   "cell_type": "code",
   "execution_count": 26,
   "id": "1c57b065-64c8-4dcc-b22e-35c681bbfc41",
   "metadata": {},
   "outputs": [],
   "source": [
    "def print_hello():\n",
    "    print('hello world')"
   ]
  },
  {
   "cell_type": "code",
   "execution_count": 28,
   "id": "12cc1535-facb-445a-86dd-80e5fabf7570",
   "metadata": {},
   "outputs": [
    {
     "name": "stdout",
     "output_type": "stream",
     "text": [
      "hello world\n"
     ]
    }
   ],
   "source": [
    "print_hello()"
   ]
  },
  {
   "cell_type": "code",
   "execution_count": 33,
   "id": "c951971a-782b-4ef8-a311-0c4464e8191e",
   "metadata": {},
   "outputs": [],
   "source": [
    "def print_hello():\n",
    "    return 'hello world'"
   ]
  },
  {
   "cell_type": "code",
   "execution_count": 34,
   "id": "42029027-4231-40e9-8a1a-ca1e6a5be901",
   "metadata": {},
   "outputs": [
    {
     "name": "stdout",
     "output_type": "stream",
     "text": [
      "hello world\n"
     ]
    }
   ],
   "source": [
    "x=print_hello()\n",
    "print(x)"
   ]
  },
  {
   "cell_type": "code",
   "execution_count": 29,
   "id": "e8c07ff0-fd47-4b14-a049-659db88a1a3a",
   "metadata": {},
   "outputs": [],
   "source": [
    "def sum_two_numbers(a,b):\n",
    "    print(a+b)"
   ]
  },
  {
   "cell_type": "code",
   "execution_count": 30,
   "id": "3ed27274-b2df-4682-82c3-6de109a03866",
   "metadata": {},
   "outputs": [
    {
     "name": "stdout",
     "output_type": "stream",
     "text": [
      "3\n"
     ]
    }
   ],
   "source": [
    "sum_two_numbers(1,2)"
   ]
  },
  {
   "cell_type": "code",
   "execution_count": 31,
   "id": "79ba4c01-743b-4db7-bbd8-38e71c5cb563",
   "metadata": {},
   "outputs": [],
   "source": [
    "def sum_two_numbers(a,b):\n",
    "    s=a+b\n",
    "    return s"
   ]
  },
  {
   "cell_type": "code",
   "execution_count": 32,
   "id": "dedf6a58-5f22-4ec4-9fa8-b21304ffbda9",
   "metadata": {},
   "outputs": [
    {
     "name": "stdout",
     "output_type": "stream",
     "text": [
      "3\n"
     ]
    }
   ],
   "source": [
    "x=sum_two_numbers(1,2)\n",
    "print(x)"
   ]
  },
  {
   "cell_type": "code",
   "execution_count": 36,
   "id": "d2c17f52-67b1-4bcd-9d16-ac615693d6ad",
   "metadata": {},
   "outputs": [],
   "source": [
    "def sum_two_numbers_and_multiply_them(a,b):\n",
    "    s=a+b\n",
    "    c=a*b\n",
    "    return s,c"
   ]
  },
  {
   "cell_type": "code",
   "execution_count": 37,
   "id": "153c1ac3-396a-4118-8234-11f716a82a8c",
   "metadata": {},
   "outputs": [
    {
     "name": "stdout",
     "output_type": "stream",
     "text": [
      "x0= 5\n",
      "x1= 6\n"
     ]
    }
   ],
   "source": [
    "x0,x1 =sum_two_numbers_and_multiply_them(2,3)\n",
    "print('x0=',x0)\n",
    "print('x1=',x1)"
   ]
  },
  {
   "cell_type": "code",
   "execution_count": null,
   "id": "de9400d9-8da6-4017-8a78-2594f75b1674",
   "metadata": {},
   "outputs": [],
   "source": []
  },
  {
   "cell_type": "code",
   "execution_count": null,
   "id": "3e041169-0e9c-433e-8da8-c18fb387e030",
   "metadata": {},
   "outputs": [],
   "source": []
  },
  {
   "cell_type": "markdown",
   "id": "0f4973d7-6cff-4c0c-9563-8e70fcf6a215",
   "metadata": {},
   "source": [
    "# Classes:"
   ]
  },
  {
   "cell_type": "code",
   "execution_count": 84,
   "id": "36774878-8a74-4a33-a3a9-722e4aa94347",
   "metadata": {},
   "outputs": [],
   "source": [
    "class names:\n",
    "    def __init__ (self,name,age):\n",
    "       self.name=name\n",
    "       self.age=age\n",
    "    \n",
    "    def print_x(self,x):\n",
    "        print(x)"
   ]
  },
  {
   "cell_type": "code",
   "execution_count": 85,
   "id": "55de3667-7d52-4f03-b390-a1bab4b5f0c0",
   "metadata": {},
   "outputs": [],
   "source": [
    "ahmed = names('ahmed',23)"
   ]
  },
  {
   "cell_type": "code",
   "execution_count": 86,
   "id": "d7b12dba-a457-483e-ba63-5275464b1f0d",
   "metadata": {},
   "outputs": [
    {
     "name": "stdout",
     "output_type": "stream",
     "text": [
      "5\n"
     ]
    }
   ],
   "source": [
    "ahmed.print_x(5)"
   ]
  },
  {
   "cell_type": "code",
   "execution_count": 97,
   "id": "55d584ab-ff7e-4cc0-9d57-e6891c5728b6",
   "metadata": {},
   "outputs": [],
   "source": [
    "class names:\n",
    "    def __init__ (self,name,age):\n",
    "       self.name=name\n",
    "       self.age=age\n",
    "\n",
    "    def __str__(self):\n",
    "      object_details=f'this object belongs to {self.name} and his age is {self.age}'\n",
    "      return object_details\n",
    "    \n",
    "    \n",
    "    def print_x(self,x):\n",
    "        print(x)\n",
    "\n",
    "    def add_(self,a,b):\n",
    "        return a+b"
   ]
  },
  {
   "cell_type": "code",
   "execution_count": 98,
   "id": "93491270-f6cc-43fb-b84e-f480780ff254",
   "metadata": {},
   "outputs": [],
   "source": [
    "Object1= names('Ahmed',23) \n",
    "# When we define an object from a class we pass the initial values. The __init__ will take it"
   ]
  },
  {
   "cell_type": "code",
   "execution_count": 99,
   "id": "16a1d506-6955-4397-8f63-c7c648a4fcfe",
   "metadata": {},
   "outputs": [
    {
     "data": {
      "text/plain": [
       "'this object belongs to Ahmed and his age is 23'"
      ]
     },
     "execution_count": 99,
     "metadata": {},
     "output_type": "execute_result"
    }
   ],
   "source": [
    "Object1.__str__()"
   ]
  },
  {
   "cell_type": "code",
   "execution_count": 100,
   "id": "891a9920-0d7d-486e-ad41-1215fe761640",
   "metadata": {},
   "outputs": [
    {
     "name": "stdout",
     "output_type": "stream",
     "text": [
      "100\n"
     ]
    }
   ],
   "source": [
    "Object1.print_x(100)"
   ]
  },
  {
   "cell_type": "code",
   "execution_count": 102,
   "id": "f2bbf619-d3be-44ae-a746-575d3adad8e8",
   "metadata": {},
   "outputs": [],
   "source": [
    "x=Object1.add_(2,7)"
   ]
  },
  {
   "cell_type": "code",
   "execution_count": 103,
   "id": "b642d10e-1c99-4b43-89e9-fd58d35db61d",
   "metadata": {},
   "outputs": [
    {
     "name": "stdout",
     "output_type": "stream",
     "text": [
      "9\n"
     ]
    }
   ],
   "source": [
    "print(x)"
   ]
  },
  {
   "cell_type": "markdown",
   "id": "89af06df-9618-4279-ab43-34282d2d10a8",
   "metadata": {},
   "source": [
    "### Inheritance in Python"
   ]
  },
  {
   "cell_type": "code",
   "execution_count": 104,
   "id": "7d41efe6-f7ac-4f1a-aef3-f4558b1f02d8",
   "metadata": {},
   "outputs": [],
   "source": [
    "class names:\n",
    "    def __init__ (self,name,age):\n",
    "       self.name=name\n",
    "       self.age=age\n",
    "\n",
    "    def __str__(self):\n",
    "      object_details=f'this object belongs to {self.name} and his age is {self.age}'\n",
    "      return object_details\n",
    "    \n",
    "    \n",
    "    def print_x(self,x):\n",
    "        print(x)\n",
    "\n",
    "    def add_(self,a,b):\n",
    "        return a+b"
   ]
  },
  {
   "cell_type": "code",
   "execution_count": 106,
   "id": "fb96673c-423d-404b-962e-4b60354ced7a",
   "metadata": {},
   "outputs": [],
   "source": [
    "class child_class(names):\n",
    "    def __init__(self,name,age):\n",
    "        self.name=name\n",
    "        self.age=age\n",
    "\n",
    "     "
   ]
  },
  {
   "cell_type": "code",
   "execution_count": 107,
   "id": "f583a237-e046-4863-abed-f2a30dfd8e5d",
   "metadata": {},
   "outputs": [],
   "source": [
    "Object2=child_class('khalid',27)"
   ]
  },
  {
   "cell_type": "code",
   "execution_count": 109,
   "id": "10e79309-76b0-4f5b-9a8b-2e387e410d67",
   "metadata": {},
   "outputs": [],
   "source": [
    "x=Object2.add_(4,6)"
   ]
  },
  {
   "cell_type": "code",
   "execution_count": 110,
   "id": "30c4a16b-b6f8-4b2f-b0f5-9fe8a498a0e1",
   "metadata": {},
   "outputs": [
    {
     "name": "stdout",
     "output_type": "stream",
     "text": [
      "10\n"
     ]
    }
   ],
   "source": [
    "print(x)"
   ]
  },
  {
   "cell_type": "code",
   "execution_count": 112,
   "id": "42441d27-5cc3-40c6-b65f-c10a6275b33b",
   "metadata": {},
   "outputs": [
    {
     "name": "stdout",
     "output_type": "stream",
     "text": [
      "200\n"
     ]
    }
   ],
   "source": [
    "Object2.print_x(200)"
   ]
  },
  {
   "cell_type": "code",
   "execution_count": null,
   "id": "a206f892-536a-4992-82a1-2912271e119e",
   "metadata": {},
   "outputs": [],
   "source": []
  }
 ],
 "metadata": {
  "kernelspec": {
   "display_name": "tensorflow_env",
   "language": "python",
   "name": "tensorflow_env"
  },
  "language_info": {
   "codemirror_mode": {
    "name": "ipython",
    "version": 3
   },
   "file_extension": ".py",
   "mimetype": "text/x-python",
   "name": "python",
   "nbconvert_exporter": "python",
   "pygments_lexer": "ipython3",
   "version": "3.10.13"
  }
 },
 "nbformat": 4,
 "nbformat_minor": 5
}
