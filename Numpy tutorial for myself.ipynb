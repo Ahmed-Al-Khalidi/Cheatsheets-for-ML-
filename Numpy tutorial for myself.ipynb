{
 "cells": [
  {
   "cell_type": "markdown",
   "id": "39b1e45d-40b7-4523-8de5-111cda45797b",
   "metadata": {},
   "source": [
    "# 1. Importing NumPy"
   ]
  },
  {
   "cell_type": "code",
   "execution_count": null,
   "id": "28f874f3-47e2-420f-84e1-144e4443de86",
   "metadata": {},
   "outputs": [],
   "source": [
    "import numpy as np\n"
   ]
  },
  {
   "cell_type": "markdown",
   "id": "6d229e09-dc2c-4642-916e-0382aff075d6",
   "metadata": {},
   "source": [
    "# 2. Converting List to Array"
   ]
  },
  {
   "cell_type": "code",
   "execution_count": null,
   "id": "73190a65-f050-4680-b995-daac46d9a71f",
   "metadata": {},
   "outputs": [],
   "source": [
    "list_data = [1, 2, 3]\n",
    "arr = np.array(list_data)\n"
   ]
  },
  {
   "cell_type": "markdown",
   "id": "81e3a93d-886a-4146-8ae5-312933e35ad2",
   "metadata": {},
   "source": [
    "# 3. Converting Array to List"
   ]
  },
  {
   "cell_type": "code",
   "execution_count": null,
   "id": "852cc5ac-fdf7-4e45-af5e-ab1366604a46",
   "metadata": {},
   "outputs": [],
   "source": [
    "list_from_array = arr.tolist()\n"
   ]
  },
  {
   "cell_type": "markdown",
   "id": "8401b401-617d-44b8-b543-628e1e73c06a",
   "metadata": {},
   "source": [
    "# 4. Creating a NumPy Array"
   ]
  },
  {
   "cell_type": "code",
   "execution_count": null,
   "id": "4fc0a992-9a3a-4741-bdcb-f923d800d819",
   "metadata": {},
   "outputs": [],
   "source": [
    "arr = np.array([1, 2, 3])\n"
   ]
  },
  {
   "cell_type": "markdown",
   "id": "2dc2fdab-517c-46eb-aaca-ba1d7dc7a0ae",
   "metadata": {},
   "source": [
    "# 5. Creating a 2D Array"
   ]
  },
  {
   "cell_type": "code",
   "execution_count": null,
   "id": "d2c0c902-7fb6-4dec-a3f6-e7f2cb385d24",
   "metadata": {},
   "outputs": [],
   "source": [
    "arr_2d = np.array([[1, 2, 3], [4, 5, 6]])\n"
   ]
  },
  {
   "cell_type": "markdown",
   "id": "2cdde4d9-d083-46e4-b5a0-5f50d231fccc",
   "metadata": {},
   "source": [
    "# 6. Array Shape and Dimensions"
   ]
  },
  {
   "cell_type": "code",
   "execution_count": null,
   "id": "43f9f469-81ef-4752-aaed-c6a7680289e0",
   "metadata": {},
   "outputs": [],
   "source": [
    "shape = arr.shape\n",
    "dimensions = arr.ndim\n"
   ]
  },
  {
   "cell_type": "markdown",
   "id": "5b421145-f021-4be8-a277-d51280c5f9ec",
   "metadata": {},
   "source": [
    "# 7. Array Operations"
   ]
  },
  {
   "cell_type": "code",
   "execution_count": null,
   "id": "f9d95a25-16ee-4078-a3f2-52ebc897915d",
   "metadata": {},
   "outputs": [],
   "source": [
    "sum_arr = np.sum(arr)\n",
    "mean_arr = np.mean(arr)\n",
    "max_value = np.max(arr)\n",
    "min_value = np.min(arr)\n"
   ]
  },
  {
   "cell_type": "markdown",
   "id": "a4961d5d-201a-4952-b71c-059b0d5c16e2",
   "metadata": {},
   "source": [
    "# 8. Array Indexing and Slicing"
   ]
  },
  {
   "cell_type": "code",
   "execution_count": null,
   "id": "f5654458-626a-47cb-904f-4bea93a99d7c",
   "metadata": {},
   "outputs": [],
   "source": [
    "value = arr[0]\n",
    "slice_arr = arr[1:3]\n"
   ]
  },
  {
   "cell_type": "markdown",
   "id": "2cd90d79-cb8e-40bf-bea9-a5eaab8bf7e3",
   "metadata": {},
   "source": [
    "# 9. Element-wise Operations"
   ]
  },
  {
   "cell_type": "code",
   "execution_count": null,
   "id": "03080722-4713-406c-9279-055cf5332631",
   "metadata": {},
   "outputs": [],
   "source": [
    "addition = arr + 2\n",
    "multiplication = arr * 3\n"
   ]
  },
  {
   "cell_type": "markdown",
   "id": "0f0d991b-b27a-43f0-aa3a-86d84dac6ddc",
   "metadata": {},
   "source": [
    "# 10. Matrix Operations"
   ]
  },
  {
   "cell_type": "code",
   "execution_count": null,
   "id": "8803dfc1-ddb6-4c80-bc85-4669a9a5a920",
   "metadata": {},
   "outputs": [],
   "source": [
    "matrix_product = np.dot(matrix1, matrix2)\n"
   ]
  },
  {
   "cell_type": "markdown",
   "id": "1c2aa9ed-9fd8-4459-8928-bd584b81e810",
   "metadata": {},
   "source": [
    "# 11. Reshaping an Array"
   ]
  },
  {
   "cell_type": "code",
   "execution_count": null,
   "id": "c62da87e-40f8-4427-8a3e-7cc2c27d4905",
   "metadata": {},
   "outputs": [],
   "source": [
    "reshaped_arr = arr.reshape((rows, columns))\n"
   ]
  },
  {
   "cell_type": "markdown",
   "id": "c5dc192f-b366-43fb-af7f-450cc81b35a2",
   "metadata": {},
   "source": [
    "# 12. Transposing an Array"
   ]
  },
  {
   "cell_type": "code",
   "execution_count": null,
   "id": "149fe53a-65a0-4894-9e50-b975bc4216ec",
   "metadata": {},
   "outputs": [],
   "source": [
    "transposed_arr = arr.T\n"
   ]
  },
  {
   "cell_type": "markdown",
   "id": "65c4b2e5-cffb-4982-b195-8fdc29afd1e5",
   "metadata": {},
   "source": [
    "# 13. Generating a Range of Values"
   ]
  },
  {
   "cell_type": "code",
   "execution_count": null,
   "id": "01d3635e-72de-4a77-8f4f-d913b6b2ad71",
   "metadata": {},
   "outputs": [],
   "source": [
    "range_arr = np.arange(start, stop, step)\n"
   ]
  },
  {
   "cell_type": "markdown",
   "id": "1930f009-fe7c-47d2-b274-9bdb3f961c42",
   "metadata": {},
   "source": [
    "# 14. Creating an Array of Zeros or Ones"
   ]
  },
  {
   "cell_type": "code",
   "execution_count": null,
   "id": "33cbb191-2d8b-4136-a757-fa3660025d7a",
   "metadata": {},
   "outputs": [],
   "source": [
    "zeros_arr = np.zeros((rows, columns))\n",
    "ones_arr = np.ones((rows, columns))\n"
   ]
  },
  {
   "cell_type": "markdown",
   "id": "2958e8df-ac1d-45ff-ba4d-39c6cb91936c",
   "metadata": {},
   "source": [
    "# 15. Random Number Generation"
   ]
  },
  {
   "cell_type": "code",
   "execution_count": null,
   "id": "0196dfce-4764-4e8a-ad57-87c9e811c511",
   "metadata": {},
   "outputs": [],
   "source": [
    "random_arr = np.random.rand(rows, columns)\n"
   ]
  },
  {
   "cell_type": "markdown",
   "id": "53331850-4012-4f9b-9f69-9ffa4055ee35",
   "metadata": {},
   "source": [
    "# 16. Statistical Functions"
   ]
  },
  {
   "cell_type": "code",
   "execution_count": null,
   "id": "db2e7ec3-b616-4a3f-92e4-b827c3434079",
   "metadata": {},
   "outputs": [],
   "source": [
    "std_dev = np.std(arr)\n",
    "variance = np.var(arr)\n"
   ]
  },
  {
   "cell_type": "markdown",
   "id": "d8162b54-9842-4df2-acd2-57fdf1d2b67d",
   "metadata": {},
   "source": [
    "# 17. Concatenating Arrays"
   ]
  },
  {
   "cell_type": "code",
   "execution_count": null,
   "id": "4b9724c6-f25b-4505-94dd-df1ddf442743",
   "metadata": {},
   "outputs": [],
   "source": [
    "concatenated_arr = np.concatenate((arr1, arr2), axis=0)\n"
   ]
  },
  {
   "cell_type": "markdown",
   "id": "31c858de-ce8a-4e00-ae8b-0f56edcc4ae2",
   "metadata": {},
   "source": [
    "# 18. Stacking Arrays"
   ]
  },
  {
   "cell_type": "code",
   "execution_count": null,
   "id": "ab1d1c67-0b5a-47ee-a029-757931f3154a",
   "metadata": {},
   "outputs": [],
   "source": [
    "stacked_arr = np.stack((arr1, arr2), axis=1)\n"
   ]
  },
  {
   "cell_type": "markdown",
   "id": "0458ab7b-399e-431e-b173-26a53e3c0a1a",
   "metadata": {},
   "source": [
    "# 19. Element-wise Comparison"
   ]
  },
  {
   "cell_type": "code",
   "execution_count": null,
   "id": "222efb24-45c4-4861-935a-61a4f4f2e178",
   "metadata": {},
   "outputs": [],
   "source": [
    "elementwise_comparison = arr1 == arr2\n"
   ]
  },
  {
   "cell_type": "markdown",
   "id": "38cde4d2-3204-4faa-a9dc-c34f47a33593",
   "metadata": {},
   "source": [
    "# 20. Filtering with Boolean Indexing"
   ]
  },
  {
   "cell_type": "code",
   "execution_count": null,
   "id": "23983402-fa99-44bc-86bd-731bed2610cd",
   "metadata": {},
   "outputs": [],
   "source": [
    "filtered_arr = arr[arr > threshold]\n"
   ]
  },
  {
   "cell_type": "markdown",
   "id": "75e91a4c-940b-47e2-ab73-9e95c62ffbd9",
   "metadata": {},
   "source": [
    "# 21. Linear Algebra Operations"
   ]
  },
  {
   "cell_type": "code",
   "execution_count": null,
   "id": "ed3004c1-873d-40d1-a669-7891e127921d",
   "metadata": {},
   "outputs": [],
   "source": [
    "eigenvalues, eigenvectors = np.linalg.eig(matrix)\n"
   ]
  },
  {
   "cell_type": "markdown",
   "id": "895e7fba-7f32-443e-8c26-e24637004572",
   "metadata": {},
   "source": [
    "# 22. Saving and Loading Arrays"
   ]
  },
  {
   "cell_type": "code",
   "execution_count": null,
   "id": "68ac2cff-1951-4554-b34c-1b070888517e",
   "metadata": {},
   "outputs": [],
   "source": [
    "np.save(\"array.npy\", arr)\n",
    "loaded_arr = np.load(\"array.npy\")\n"
   ]
  }
 ],
 "metadata": {
  "kernelspec": {
   "display_name": "tensorflow_env",
   "language": "python",
   "name": "tensorflow_env"
  },
  "language_info": {
   "codemirror_mode": {
    "name": "ipython",
    "version": 3
   },
   "file_extension": ".py",
   "mimetype": "text/x-python",
   "name": "python",
   "nbconvert_exporter": "python",
   "pygments_lexer": "ipython3",
   "version": "3.10.13"
  }
 },
 "nbformat": 4,
 "nbformat_minor": 5
}
